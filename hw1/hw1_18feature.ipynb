{
 "cells": [
  {
   "cell_type": "code",
   "execution_count": 1,
   "metadata": {
    "collapsed": true
   },
   "outputs": [],
   "source": [
    "import pandas as pd\n",
    "import numpy as np"
   ]
  },
  {
   "cell_type": "code",
   "execution_count": 2,
   "metadata": {},
   "outputs": [],
   "source": [
    "train_data = pd.read_csv(\"train.csv\" , encoding = 'big5').as_matrix()\n",
    "\n",
    "train_data = train_data[:,3:]"
   ]
  },
  {
   "cell_type": "code",
   "execution_count": 17,
   "metadata": {},
   "outputs": [
    {
     "name": "stdout",
     "output_type": "stream",
     "text": [
      "(5040, 18)\n"
     ]
    }
   ],
   "source": [
    "datalist = []\n",
    "\n",
    "idx_l.extend(range(0,18))\n",
    "for i in range(0,train_data.shape[0],18):\n",
    "    tmp = train_data[i:i+18,3:]\n",
    "    datalist.append(tmp)\n",
    "    \n",
    "data1 =  np.concatenate(datalist,axis=1).T\n",
    "data1[data1 == 'NR'] = 0\n",
    "\n",
    "pd.DataFrame(data1).head()\n",
    "print (data1.shape)"
   ]
  },
  {
   "cell_type": "code",
   "execution_count": 35,
   "metadata": {},
   "outputs": [
    {
     "name": "stdout",
     "output_type": "stream",
     "text": [
      "(5039, 1) (5039, 18)\n",
      "(5039, 19)\n"
     ]
    },
    {
     "data": {
      "text/html": [
       "<div>\n",
       "<style>\n",
       "    .dataframe thead tr:only-child th {\n",
       "        text-align: right;\n",
       "    }\n",
       "\n",
       "    .dataframe thead th {\n",
       "        text-align: left;\n",
       "    }\n",
       "\n",
       "    .dataframe tbody tr th {\n",
       "        vertical-align: top;\n",
       "    }\n",
       "</style>\n",
       "<table border=\"1\" class=\"dataframe\">\n",
       "  <thead>\n",
       "    <tr style=\"text-align: right;\">\n",
       "      <th></th>\n",
       "      <th>0</th>\n",
       "      <th>1</th>\n",
       "      <th>2</th>\n",
       "      <th>3</th>\n",
       "      <th>4</th>\n",
       "      <th>5</th>\n",
       "      <th>6</th>\n",
       "      <th>7</th>\n",
       "      <th>8</th>\n",
       "      <th>9</th>\n",
       "      <th>10</th>\n",
       "      <th>11</th>\n",
       "      <th>12</th>\n",
       "      <th>13</th>\n",
       "      <th>14</th>\n",
       "      <th>15</th>\n",
       "      <th>16</th>\n",
       "      <th>17</th>\n",
       "      <th>18</th>\n",
       "    </tr>\n",
       "  </thead>\n",
       "  <tbody>\n",
       "    <tr>\n",
       "      <th>0</th>\n",
       "      <td>13.0</td>\n",
       "      <td>1.8</td>\n",
       "      <td>0.37</td>\n",
       "      <td>0.12</td>\n",
       "      <td>1.7</td>\n",
       "      <td>6.9</td>\n",
       "      <td>8.6</td>\n",
       "      <td>23.0</td>\n",
       "      <td>35.0</td>\n",
       "      <td>35.0</td>\n",
       "      <td>0.0</td>\n",
       "      <td>74.0</td>\n",
       "      <td>1.6</td>\n",
       "      <td>1.9</td>\n",
       "      <td>76.0</td>\n",
       "      <td>55.0</td>\n",
       "      <td>0.6</td>\n",
       "      <td>0.3</td>\n",
       "      <td>31.0</td>\n",
       "    </tr>\n",
       "    <tr>\n",
       "      <th>1</th>\n",
       "      <td>12.0</td>\n",
       "      <td>1.8</td>\n",
       "      <td>0.35</td>\n",
       "      <td>0.11</td>\n",
       "      <td>1.8</td>\n",
       "      <td>6.8</td>\n",
       "      <td>8.5</td>\n",
       "      <td>24.0</td>\n",
       "      <td>25.0</td>\n",
       "      <td>31.0</td>\n",
       "      <td>0.0</td>\n",
       "      <td>72.0</td>\n",
       "      <td>1.9</td>\n",
       "      <td>1.9</td>\n",
       "      <td>110.0</td>\n",
       "      <td>94.0</td>\n",
       "      <td>1.7</td>\n",
       "      <td>0.6</td>\n",
       "      <td>28.0</td>\n",
       "    </tr>\n",
       "    <tr>\n",
       "      <th>2</th>\n",
       "      <td>12.0</td>\n",
       "      <td>1.8</td>\n",
       "      <td>0.30</td>\n",
       "      <td>0.06</td>\n",
       "      <td>1.5</td>\n",
       "      <td>3.8</td>\n",
       "      <td>5.3</td>\n",
       "      <td>28.0</td>\n",
       "      <td>12.0</td>\n",
       "      <td>28.0</td>\n",
       "      <td>0.0</td>\n",
       "      <td>73.0</td>\n",
       "      <td>1.4</td>\n",
       "      <td>1.8</td>\n",
       "      <td>106.0</td>\n",
       "      <td>116.0</td>\n",
       "      <td>2.5</td>\n",
       "      <td>1.9</td>\n",
       "      <td>25.0</td>\n",
       "    </tr>\n",
       "    <tr>\n",
       "      <th>3</th>\n",
       "      <td>12.0</td>\n",
       "      <td>1.8</td>\n",
       "      <td>0.37</td>\n",
       "      <td>0.10</td>\n",
       "      <td>1.9</td>\n",
       "      <td>6.9</td>\n",
       "      <td>8.8</td>\n",
       "      <td>24.0</td>\n",
       "      <td>4.0</td>\n",
       "      <td>25.0</td>\n",
       "      <td>0.0</td>\n",
       "      <td>74.0</td>\n",
       "      <td>1.5</td>\n",
       "      <td>1.9</td>\n",
       "      <td>101.0</td>\n",
       "      <td>106.0</td>\n",
       "      <td>2.5</td>\n",
       "      <td>2.0</td>\n",
       "      <td>20.0</td>\n",
       "    </tr>\n",
       "    <tr>\n",
       "      <th>4</th>\n",
       "      <td>12.0</td>\n",
       "      <td>1.8</td>\n",
       "      <td>0.47</td>\n",
       "      <td>0.13</td>\n",
       "      <td>2.2</td>\n",
       "      <td>7.8</td>\n",
       "      <td>9.9</td>\n",
       "      <td>22.0</td>\n",
       "      <td>2.0</td>\n",
       "      <td>20.0</td>\n",
       "      <td>0.0</td>\n",
       "      <td>73.0</td>\n",
       "      <td>1.6</td>\n",
       "      <td>1.9</td>\n",
       "      <td>104.0</td>\n",
       "      <td>94.0</td>\n",
       "      <td>2.0</td>\n",
       "      <td>2.0</td>\n",
       "      <td>19.0</td>\n",
       "    </tr>\n",
       "  </tbody>\n",
       "</table>\n",
       "</div>"
      ],
      "text/plain": [
       "     0    1     2     3    4    5    6     7     8     9    10    11   12  \\\n",
       "0  13.0  1.8  0.37  0.12  1.7  6.9  8.6  23.0  35.0  35.0  0.0  74.0  1.6   \n",
       "1  12.0  1.8  0.35  0.11  1.8  6.8  8.5  24.0  25.0  31.0  0.0  72.0  1.9   \n",
       "2  12.0  1.8  0.30  0.06  1.5  3.8  5.3  28.0  12.0  28.0  0.0  73.0  1.4   \n",
       "3  12.0  1.8  0.37  0.10  1.9  6.9  8.8  24.0   4.0  25.0  0.0  74.0  1.5   \n",
       "4  12.0  1.8  0.47  0.13  2.2  7.8  9.9  22.0   2.0  20.0  0.0  73.0  1.6   \n",
       "\n",
       "    13     14     15   16   17    18  \n",
       "0  1.9   76.0   55.0  0.6  0.3  31.0  \n",
       "1  1.9  110.0   94.0  1.7  0.6  28.0  \n",
       "2  1.8  106.0  116.0  2.5  1.9  25.0  \n",
       "3  1.9  101.0  106.0  2.5  2.0  20.0  \n",
       "4  1.9  104.0   94.0  2.0  2.0  19.0  "
      ]
     },
     "execution_count": 35,
     "metadata": {},
     "output_type": "execute_result"
    }
   ],
   "source": [
    "data = data1.astype('float')\n",
    "print (data[1:,9:10].shape , data[:-1,].shape)\n",
    "datalist = [data[:-1,] , data[1:,9:10]]\n",
    "data =  np.concatenate(datalist,axis=1)\n",
    "\n",
    "print (data.shape)\n",
    "\n",
    "pd.DataFrame(data).head()"
   ]
  },
  {
   "cell_type": "code",
   "execution_count": 39,
   "metadata": {},
   "outputs": [],
   "source": [
    "from sklearn.model_selection  import train_test_split\n",
    "\n",
    "train ,test = train_test_split(data,test_size=0.2)\n",
    "train_y_list = train[:,18]\n",
    "train_x_list = train[:,:-1]\n",
    "test_y_list = test[:,18]\n",
    "test_x_list = test[:,:-1]"
   ]
  },
  {
   "cell_type": "code",
   "execution_count": 44,
   "metadata": {
    "collapsed": true
   },
   "outputs": [],
   "source": [
    "from sklearn.metrics import mean_squared_error\n",
    "from math import sqrt\n",
    "\n",
    "def rmse(actu,pred) :\n",
    "    return sqrt(mean_squared_error(actu, pred))"
   ]
  },
  {
   "cell_type": "code",
   "execution_count": 53,
   "metadata": {},
   "outputs": [
    {
     "name": "stdout",
     "output_type": "stream",
     "text": [
      "-0.119316793465 [-0.050496363777561351, 0.41938050152854328, 1.5181892770765437, 1.873458854639223, 0.30837026285750213, -0.0015243252196739875, 0.039207787692177851, 0.07714324643863224, 0.040403897572776272, 0.78133622765418165, -0.080792277970311854, -0.039491460434462965, 0.28016460308184499, 0.45680995122650359, -0.0097269485344977178, 0.01294148291490977, -0.17522549580829674, -0.15919269359714969]\n"
     ]
    }
   ],
   "source": [
    "import random\n",
    "\n",
    "f_num = len(train_x_list[0])\n",
    "# ydata = b + w * xdata \n",
    "b = 0 # initial b\n",
    "w = [0.0]*f_num # initial w\n",
    "lr = 1 # learning rate\n",
    "iteration = 100000\n",
    "\n",
    "b_lr = 0.0\n",
    "w_lr = [10.0]*f_num\n",
    "\n",
    "# Store initial values for plotting.\n",
    "#b_history = [b]\n",
    "#w_history = [w[0]]\n",
    "\n",
    "for i in range(iteration):\n",
    "    #print (i)\n",
    "    b_grad = 0.0\n",
    "    w_grad = [0.0]*f_num\n",
    "    '''\n",
    "    for n in range(len(train_x_list)):\n",
    "        W = 0\n",
    "        W = np.dot(w,train_x_list[n]) \n",
    "        b_grad = b_grad  - 2.0*(train_y_list[n] - b - W)*1.0\n",
    "        for j in range(f_num):\n",
    "            w_grad[j] = w_grad[j]  - 2.0*(train_y_list[n] - b - W)*train_x_list[n][j]\n",
    "    b_lr = b_lr + b_grad**2\n",
    "    for j in range(f_num):\n",
    "        w_lr[j] = w_lr[j] + w_grad[j]**2\n",
    "            \n",
    "    '''\n",
    "    #stochastic gradient descent \n",
    "    n = random.randint(0,len(train_x_list)-1)\n",
    "    W = 0\n",
    "    #print (len(w) , len(x_list[n]))\n",
    "    W = np.dot(w,train_x_list[n]) \n",
    "    b_grad = b_grad  - 2.0*(train_y_list[n] - b - W)*1.0\n",
    "    b_lr = b_lr + b_grad**2\n",
    "    for j in range(f_num):\n",
    "        w_grad[j] = w_grad[j]  - 2.0*(train_y_list[n] - b - W)*train_x_list[n][j]\n",
    "        w_lr[j] = w_lr[j] + w_grad[j]**2\n",
    "    \n",
    "    # Update parameters.\n",
    "    b = b - lr/np.sqrt(b_lr) * b_grad \n",
    "    for j in range(f_num):\n",
    "        w[j] = w[j] - lr/np.sqrt(w_lr[j]) * w_grad[j]\n",
    "    \n",
    "    # Store parameters for plotting\n",
    "    #b_history.append(b)\n",
    "    #w_history.append(w[0])\n",
    "    \n",
    "print (b,w)"
   ]
  },
  {
   "cell_type": "code",
   "execution_count": 54,
   "metadata": {},
   "outputs": [
    {
     "name": "stdout",
     "output_type": "stream",
     "text": [
      "7.159710921782245\n"
     ]
    }
   ],
   "source": [
    "pred_list = []\n",
    "\n",
    "for n in range(len(test_x_list)) :\n",
    "    W = np.dot(w,test_x_list[n])\n",
    "    pred_list.append(b+W)\n",
    "    \n",
    "print (rmse(test_y_list,pred_list))"
   ]
  },
  {
   "cell_type": "code",
   "execution_count": null,
   "metadata": {
    "collapsed": true
   },
   "outputs": [],
   "source": []
  }
 ],
 "metadata": {
  "kernelspec": {
   "display_name": "Python 3",
   "language": "python",
   "name": "python3"
  },
  "language_info": {
   "codemirror_mode": {
    "name": "ipython",
    "version": 3
   },
   "file_extension": ".py",
   "mimetype": "text/x-python",
   "name": "python",
   "nbconvert_exporter": "python",
   "pygments_lexer": "ipython3",
   "version": "3.6.1"
  }
 },
 "nbformat": 4,
 "nbformat_minor": 2
}
