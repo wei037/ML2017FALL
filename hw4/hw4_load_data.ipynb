{
 "cells": [
  {
   "cell_type": "code",
   "execution_count": 40,
   "metadata": {},
   "outputs": [],
   "source": [
    "import numpy as np\n",
    "import pandas as pd\n",
    "\n",
    "train_label = pd.read_csv('training_label.txt' , sep = '\\n' , header = None)# , sep = '+++$+++' , header = None)\n",
    "train = []\n",
    "for i in range(train_label.shape[0]) :\n",
    "    train.append(train_label.iloc[i,0].split(' +++$+++ '))\n",
    "train = np.array(train)    "
   ]
  },
  {
   "cell_type": "code",
   "execution_count": 41,
   "metadata": {},
   "outputs": [
    {
     "name": "stdout",
     "output_type": "stream",
     "text": [
      "[['1' 'are wtf ... awww thanks !']\n",
      " ['1'\n",
      "  'leavingg to wait for kaysie to arrive myspacin itt for now ilmmthek .!']\n",
      " ['0' 'i wish i could go and see duffy when she comes to mamaia romania .']\n",
      " ..., \n",
      " ['0' 'boys , boys boys ... who needs them ... we all do']\n",
      " ['1' \"tonight fun fun fun ahead shine i where we ' ll be\"]\n",
      " ['0' 'i wish b . o . b could text too']]\n"
     ]
    }
   ],
   "source": [
    "print (train)"
   ]
  },
  {
   "cell_type": "code",
   "execution_count": 34,
   "metadata": {},
   "outputs": [
    {
     "name": "stdout",
     "output_type": "stream",
     "text": [
      "['1', 'are wtf ... awww thanks !']\n"
     ]
    }
   ],
   "source": [
    "a = ['1 +++$+++ are wtf ... awww thanks !' , \n",
    "     '1 +++$+++ leavingg to wait for kaysie to arrive myspacin itt for now ilmmthek .!']\n",
    "print (a[0].split(' +++$+++ '))"
   ]
  }
 ],
 "metadata": {
  "kernelspec": {
   "display_name": "Python 3",
   "language": "python",
   "name": "python3"
  },
  "language_info": {
   "codemirror_mode": {
    "name": "ipython",
    "version": 3
   },
   "file_extension": ".py",
   "mimetype": "text/x-python",
   "name": "python",
   "nbconvert_exporter": "python",
   "pygments_lexer": "ipython3",
   "version": "3.5.4"
  }
 },
 "nbformat": 4,
 "nbformat_minor": 2
}
